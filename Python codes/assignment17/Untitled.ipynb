{
 "cells": [
  {
   "cell_type": "code",
   "execution_count": 26,
   "metadata": {},
   "outputs": [],
   "source": [
    "def get_grade(total_marks):\n",
    "    if total_marks >= 90:\n",
    "        return \"A+\"\n",
    "    if total_marks >=86:\n",
    "        return \"A\"\n",
    "    if total_marks >= 82:\n",
    "        return \"A-\"\n",
    "    if total_marks >= 78:\n",
    "        return \"B+\"\n",
    "    if total_marks >= 74:\n",
    "        return \"B\"\n",
    "    if total_marks >= 70:\n",
    "        return \"B-\"\n",
    "    if total_marks >= 66:\n",
    "        return \"C+\"\n",
    "    if total_marks >= 62:\n",
    "        return \"C\"\n",
    "    if total_marks >= 58:\n",
    "        return \"C-\"\n",
    "    if total_marks >= 54:\n",
    "        return \"D+\"\n",
    "    if total_marks >= 50:\n",
    "        return \"D\"\n",
    "    if total_marks <50:\n",
    "        return \"F\""
   ]
  },
  {
   "cell_type": "code",
   "execution_count": 31,
   "metadata": {},
   "outputs": [
    {
     "data": {
      "text/plain": [
       "'A+'"
      ]
     },
     "execution_count": 31,
     "metadata": {},
     "output_type": "execute_result"
    }
   ],
   "source": [
    "get_grade(92.111111111111111111111111111111111111111111111111111111111111111111111111111111111111111)"
   ]
  },
  {
   "cell_type": "code",
   "execution_count": null,
   "metadata": {
    "collapsed": true
   },
   "outputs": [],
   "source": []
  }
 ],
 "metadata": {
  "kernelspec": {
   "display_name": "Python 2",
   "language": "python",
   "name": "python2"
  },
  "language_info": {
   "codemirror_mode": {
    "name": "ipython",
    "version": 2
   },
   "file_extension": ".py",
   "mimetype": "text/x-python",
   "name": "python",
   "nbconvert_exporter": "python",
   "pygments_lexer": "ipython2",
   "version": "2.7.13"
  }
 },
 "nbformat": 4,
 "nbformat_minor": 2
}
